{
 "cells": [
  {
   "cell_type": "code",
   "execution_count": 1,
   "id": "ee0179a8",
   "metadata": {},
   "outputs": [],
   "source": [
    "name = \"Christian Torres\""
   ]
  },
  {
   "cell_type": "code",
   "execution_count": 4,
   "id": "61225aaf",
   "metadata": {},
   "outputs": [
    {
     "name": "stdout",
     "output_type": "stream",
     "text": [
      "Hello my name is Christian Torres and this is my Jupyter Notebook\n"
     ]
    }
   ],
   "source": [
    "print(f\"Hello my name is {name} and this is my Jupyter Notebook\")"
   ]
  },
  {
   "cell_type": "code",
   "execution_count": null,
   "id": "5c7e13d3",
   "metadata": {},
   "outputs": [],
   "source": []
  }
 ],
 "metadata": {
  "kernelspec": {
   "display_name": "Python 3 (ipykernel)",
   "language": "python",
   "name": "python3"
  },
  "language_info": {
   "codemirror_mode": {
    "name": "ipython",
    "version": 3
   },
   "file_extension": ".py",
   "mimetype": "text/x-python",
   "name": "python",
   "nbconvert_exporter": "python",
   "pygments_lexer": "ipython3",
   "version": "3.9.12"
  }
 },
 "nbformat": 4,
 "nbformat_minor": 5
}
